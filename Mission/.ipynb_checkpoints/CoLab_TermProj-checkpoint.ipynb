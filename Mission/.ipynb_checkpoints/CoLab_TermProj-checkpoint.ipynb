{
 "cells": [
  {
   "cell_type": "markdown",
   "metadata": {
    "id": "_SmTogjeMD47"
   },
   "source": [
    "# 생물정보학 및 실습 1 - Term Project용 환경 셋업\n",
    "\n",
    "```\n",
    "생물정보학 및 실습 1\n",
    "서울대학교 협동과정 생물정보학전공 2021년 1학기\n",
    "\n",
    "이 노트북은 Creative Commons BY-SA 조건으로 재사용 가능합니다.\n",
    "장혜식 <hyeshik@snu.ac.kr>, 서울대학교 생명과학부\n",
    "```\n",
    "\n",
    "이 노트북은 Google Colab을 이용해서 Term Project를 할 수 있도록 환경을 준비해 줍니다. 터미널 사용이 원활하지 않은 상태이고, 데이터를 오랫동안 보관하기 어렵기 때문에 되도록 개인용 컴퓨터에서 [Anaconda](https://www.anaconda.com/)나 [JupyterLab](https://jupyterlab.readthedocs.io/en/stable/) 등을 설치하고 사용하시는 것이 편하지만, 개인용 컴퓨터 사양이 부족한 경우에는 Google CoLab을 사용할 수도 있습니다. 개인용 컴퓨터를 쓸 때는 Windows에서는 [WSL2](https://docs.microsoft.com/en-us/windows/wsl/install-win10)를 쓰시면 리눅스 커맨드라인 환경을 쓸 수 있습니다. Google Colab은 창을 닫은 후 90분 후, 또는 창을 처음 열고 12시간 후에 환경을 닫아버리기 때문에 매번 실습할 때마다 새로 셋업이 필요합니다. `Runtime->Run All`을 실행해서 전체를 한 번 실행하시면 준비됩니다. 모든 것이 잘 안 되고 뭔가 꼬인 느낌이 강하게 들 때는 `Runtime->Factory reset runtime`을 누르고 새로 시작하시면 될 수도 있습니다.\n"
   ]
  },
  {
   "cell_type": "markdown",
   "metadata": {
    "id": "zGYjheLcRJS0"
   },
   "source": [
    "## Google Drive 마운트\n",
    "\n",
    "데이터 파일들을 불러오고 저장하기 위해서 Google Drive를 연결합니다. **이번엔 스크립트 파일을 편집해야 하기 때문에 Google Drive 마운트를 하지 않으면 vim등 콘솔에서 쓸 수 있는 에디터를 쓰셔야 합니다.** 화면에 나오는 주소를 눌러서 인증하고 인증 코드를 그 아래에 입력하세요. 그러면 `/contents/drive/MyDrive`에서 자신의 Drive 최상단 폴더가 보입니다."
   ]
  },
  {
   "cell_type": "code",
   "execution_count": null,
   "metadata": {
    "id": "0HgOxANiRHgl"
   },
   "outputs": [],
   "source": [
    "from google.colab import drive\n",
    "drive.mount('/content/drive')"
   ]
  },
  {
   "cell_type": "markdown",
   "metadata": {
    "id": "ra3RB22DWEER"
   },
   "source": [
    "## 실습용 Bioconda 환경 설치하기\n",
    "실습용 프로그램들을 쉽게 설치할 수 있도록 [Bioconda](https://bioconda.github.io/) 환경을 만듭니다. 실행하고 진행상황을 관찰하다가 에러로 보이는 것이 있으면 잘 읽어보고 해결합니다.\n",
    "\n",
    "파이썬 모듈들은 Colab쪽의 파이썬 인터프리터를 바꿀 수 없기 때문에 Conda에 설치하더라도 사용하기 어렵습니다. 파이썬 모듈은 `pip` 명령어로 설치하시면 Colab에서 불러와서 사용할 수 있습니다.\n",
    "\n",
    "환경 초기화에 관련된 스크립트는 [GitHub 프로젝트](https://github.com/hyeshik/colab-biolab)에 있습니다."
   ]
  },
  {
   "cell_type": "code",
   "execution_count": 1,
   "metadata": {
    "id": "TTXmNi4hcap3"
   },
   "outputs": [
    {
     "name": "stdout",
     "output_type": "stream",
     "text": [
      "Cloning into 'colab-biolab'...\n",
      "remote: Enumerating objects: 69, done.\u001b[K\n",
      "remote: Counting objects: 100% (69/69), done.\u001b[K\n",
      "remote: Compressing objects: 100% (43/43), done.\u001b[K\n",
      "remote: Total 69 (delta 22), reused 54 (delta 13), pack-reused 0\u001b[K\n",
      "Unpacking objects: 100% (69/69), done.\n",
      "./\n",
      "./root/\n",
      "./root/.bashrc.biolab\n",
      "tar: ./root/.bashrc.biolab: Cannot open: Permission denied\n",
      "./root/.tmux.conf\n",
      "tar: ./root/.tmux.conf: Cannot open: Permission denied\n",
      "./root/.condarc\n",
      "tar: ./root/.condarc: Cannot open: Permission denied\n",
      "./root/.bin.priority/\n",
      "tar: ./root/.bin.priority: Cannot mkdir: Permission denied\n",
      "./root/.bin.priority/pip2\n",
      "tar: ./root/.bin.priority/pip2: Cannot open: Permission denied\n",
      "./root/.bin.priority/pip\n",
      "tar: ./root/.bin.priority/pip: Cannot open: Permission denied\n",
      "./root/.bin.priority/pip3\n",
      "tar: ./root/.bin.priority/pip3: Cannot open: Permission denied\n",
      "./root/.vimrc\n",
      "tar: ./root/.vimrc: Cannot open: Permission denied\n",
      "./root/.profile\n",
      "tar: ./root/.profile: Cannot open: Permission denied\n",
      "tar: ./root: Cannot utime: Operation not permitted\n",
      "tar: ./root: Cannot change mode to rwxr-xr-x: Operation not permitted\n",
      "tar: .: Cannot utime: Operation not permitted\n",
      "tar: Exiting with failure status due to previous errors\n",
      "--2021-05-13 16:52:49--  https://repo.anaconda.com/miniconda/Miniconda3-latest-Linux-x86_64.sh\n",
      "Resolving repo.anaconda.com (repo.anaconda.com)... 104.16.130.3, 104.16.131.3, 2606:4700::6810:8203, ...\n",
      "Connecting to repo.anaconda.com (repo.anaconda.com)|104.16.130.3|:443... connected.\n",
      "HTTP request sent, awaiting response... 200 OK\n",
      "Length: 94235922 (90M) [application/x-sh]\n",
      "Saving to: ‘miniconda3.sh’\n",
      "\n",
      "miniconda3.sh       100%[===================>]  89.87M  14.0MB/s    in 6.6s    \n",
      "\n",
      "2021-05-13 16:52:56 (13.6 MB/s) - ‘miniconda3.sh’ saved [94235922/94235922]\n",
      "\n",
      "mkdir: cannot create directory ‘/root’: Permission denied\n",
      "ERROR: Could not create directory: '/root/conda'\n",
      "tools/setup.sh: line 18: /root/conda/bin/conda: Permission denied\n",
      "cat: /home/jihye/.bashrc.biolab: No such file or directory\n"
     ]
    },
    {
     "ename": "ValueError",
     "evalue": "not enough values to unpack (expected 2, got 1)",
     "output_type": "error",
     "traceback": [
      "\u001b[0;31m---------------------------------------------------------------------------\u001b[0m",
      "\u001b[0;31mValueError\u001b[0m                                Traceback (most recent call last)",
      "\u001b[0;32m<ipython-input-1-e46237d71665>\u001b[0m in \u001b[0;36m<module>\u001b[0;34m\u001b[0m\n\u001b[1;32m      1\u001b[0m \u001b[0mget_ipython\u001b[0m\u001b[0;34m(\u001b[0m\u001b[0;34m)\u001b[0m\u001b[0;34m.\u001b[0m\u001b[0msystem\u001b[0m\u001b[0;34m(\u001b[0m\u001b[0;34m'git clone https://github.com/hyeshik/colab-biolab.git'\u001b[0m\u001b[0;34m)\u001b[0m\u001b[0;34m\u001b[0m\u001b[0;34m\u001b[0m\u001b[0m\n\u001b[1;32m      2\u001b[0m \u001b[0mget_ipython\u001b[0m\u001b[0;34m(\u001b[0m\u001b[0;34m)\u001b[0m\u001b[0;34m.\u001b[0m\u001b[0msystem\u001b[0m\u001b[0;34m(\u001b[0m\u001b[0;34m'cd colab-biolab && bash tools/setup.sh'\u001b[0m\u001b[0;34m)\u001b[0m\u001b[0;34m\u001b[0m\u001b[0;34m\u001b[0m\u001b[0m\n\u001b[0;32m----> 3\u001b[0;31m \u001b[0mexec\u001b[0m\u001b[0;34m(\u001b[0m\u001b[0mopen\u001b[0m\u001b[0;34m(\u001b[0m\u001b[0;34m'colab-biolab/tools/activate_conda.py'\u001b[0m\u001b[0;34m)\u001b[0m\u001b[0;34m.\u001b[0m\u001b[0mread\u001b[0m\u001b[0;34m(\u001b[0m\u001b[0;34m)\u001b[0m\u001b[0;34m)\u001b[0m\u001b[0;34m\u001b[0m\u001b[0;34m\u001b[0m\u001b[0m\n\u001b[0m",
      "\u001b[0;32m<string>\u001b[0m in \u001b[0;36m<module>\u001b[0;34m\u001b[0m\n",
      "\u001b[0;31mValueError\u001b[0m: not enough values to unpack (expected 2, got 1)"
     ]
    }
   ],
   "source": [
    "!git clone https://github.com/hyeshik/colab-biolab.git\n",
    "!cd colab-biolab && bash tools/setup.sh\n",
    "exec(open('colab-biolab/tools/activate_conda.py').read())"
   ]
  },
  {
   "cell_type": "markdown",
   "metadata": {
    "id": "eDfJ0fCzsTTb"
   },
   "source": [
    "설정이 끝났으면, 이제 콘솔을 열어서 터미널로 접속할 수 있는 통로를 열어줍니다."
   ]
  },
  {
   "cell_type": "markdown",
   "metadata": {
    "id": "J2LqGiP_N26s"
   },
   "source": [
    "## Google Drive에 시퀀싱 데이터 다운로드\n",
    "이제 실습 수업에서 필요한 시퀀싱 데이터를 다운로드 받아서 설치합시다. 드라이브 공간만 충분하면 데이터는 계속 저장돼 있기 때문에 한 번만 하시면 됩니다. Colab에서는 작업용 데이터를 Google Drive 폴더 아래의 `binfo-datapack1`에 저장합니다. 실습용 데이터는 `/content/drive/MyDrive/binfo1-datapack1`에 풀리게 됩니다. 첫 번째에는 wget이 접속오류를 내는 경우가 많으니, 접속에러가 발생하면 다시 한 번 실행해 보세요. 1G씩 끊어지지만 자동으로 이어받아집니다."
   ]
  },
  {
   "cell_type": "code",
   "execution_count": 3,
   "metadata": {
    "id": "kIN484e7NSxR"
   },
   "outputs": [
    {
     "name": "stdout",
     "output_type": "stream",
     "text": [
      "--2021-05-13 16:53:49--  https://hyeshik.qbio.io/binfo/binfo1-datapack1.tar\n",
      "Resolving hyeshik.qbio.io (hyeshik.qbio.io)... 147.47.203.129\n",
      "Connecting to hyeshik.qbio.io (hyeshik.qbio.io)|147.47.203.129|:443... connected.\n",
      "WARNING: cannot verify hyeshik.qbio.io's certificate, issued by ‘CN=R3,O=Let's Encrypt,C=US’:\n",
      "  Unable to locally verify the issuer's authority.\n",
      "HTTP request sent, awaiting response... 200 OK\n",
      "Length: 6424668160 (6.0G) [application/octet-stream]\n",
      "Saving to: ‘STDOUT’\n",
      "\n",
      "-                   100%[===================>]   5.98G  85.8MB/s    in 1m 46s  \n",
      "\n",
      "2021-05-13 16:55:35 (58.0 MB/s) - written to stdout [6424668160/6424668160]\n",
      "\n"
     ]
    }
   ],
   "source": [
    "!wget -O - --no-check-certificate https://hyeshik.qbio.io/binfo/binfo1-datapack1.tar | tar -C /data/project/jihye/2021-1/BioinfoPractice1/TermProject -xf -"
   ]
  },
  {
   "cell_type": "markdown",
   "metadata": {
    "id": "lnlM-S70C-tY"
   },
   "source": [
    "받은 데이터의 MD5 체크섬을 확인합니다. 한참 걸립니다. 각 파일들의 원래 체크섬은 다음과 같습니다. 한 번 비교해 보세요.\n",
    "\n",
    "```\n",
    "140aaf30bcb9276cc716f8699f04ddd6  CLIP-35L33G.bam\n",
    "f1b3336ed7e2f97d562dcc71641251bd  CLIP-35L33G.bam.bai\n",
    "328883a73d507eafbf5b60bd6b906201  RNA-control.bam\n",
    "02073818e2f398a73c3b76e5169de1ca  RNA-control.bam.bai\n",
    "b09550d09d6c2a4ce27f0226f426fdb1  RNA-siLin28a.bam\n",
    "fef112c727244060ea62d3f2564a07f6  RNA-siLin28a.bam.bai\n",
    "28bbd0c47d725669340c784f1b772c01  RNA-siLuc.bam\n",
    "43590fdc4d81905c0432e0d1cb8cfd5b  RNA-siLuc.bam.bai\n",
    "5c08a9297307bc83259e658c4474f0cc  RPF-siLin28a.bam\n",
    "a1bb3e29be412dfd7fd8d16b1b1acc4c  RPF-siLin28a.bam.bai\n",
    "f2eebf50943024d0116c9cd3e744c707  RPF-siLuc.bam\n",
    "dc24f69e8f571fc8be30f28ce5b84fcd  RPF-siLuc.bam.bai\n",
    "```"
   ]
  },
  {
   "cell_type": "code",
   "execution_count": 4,
   "metadata": {
    "id": "g8lC_YJRBCPf"
   },
   "outputs": [
    {
     "name": "stdout",
     "output_type": "stream",
     "text": [
      "140aaf30bcb9276cc716f8699f04ddd6  /data/project/jihye/2021-1/BioinfoPractice1/TermProject/binfo1-datapack1/CLIP-35L33G.bam\n",
      "f1b3336ed7e2f97d562dcc71641251bd  /data/project/jihye/2021-1/BioinfoPractice1/TermProject/binfo1-datapack1/CLIP-35L33G.bam.bai\n",
      "328883a73d507eafbf5b60bd6b906201  /data/project/jihye/2021-1/BioinfoPractice1/TermProject/binfo1-datapack1/RNA-control.bam\n",
      "02073818e2f398a73c3b76e5169de1ca  /data/project/jihye/2021-1/BioinfoPractice1/TermProject/binfo1-datapack1/RNA-control.bam.bai\n",
      "b09550d09d6c2a4ce27f0226f426fdb1  /data/project/jihye/2021-1/BioinfoPractice1/TermProject/binfo1-datapack1/RNA-siLin28a.bam\n",
      "fef112c727244060ea62d3f2564a07f6  /data/project/jihye/2021-1/BioinfoPractice1/TermProject/binfo1-datapack1/RNA-siLin28a.bam.bai\n",
      "28bbd0c47d725669340c784f1b772c01  /data/project/jihye/2021-1/BioinfoPractice1/TermProject/binfo1-datapack1/RNA-siLuc.bam\n",
      "43590fdc4d81905c0432e0d1cb8cfd5b  /data/project/jihye/2021-1/BioinfoPractice1/TermProject/binfo1-datapack1/RNA-siLuc.bam.bai\n",
      "5c08a9297307bc83259e658c4474f0cc  /data/project/jihye/2021-1/BioinfoPractice1/TermProject/binfo1-datapack1/RPF-siLin28a.bam\n",
      "a1bb3e29be412dfd7fd8d16b1b1acc4c  /data/project/jihye/2021-1/BioinfoPractice1/TermProject/binfo1-datapack1/RPF-siLin28a.bam.bai\n",
      "f2eebf50943024d0116c9cd3e744c707  /data/project/jihye/2021-1/BioinfoPractice1/TermProject/binfo1-datapack1/RPF-siLuc.bam\n",
      "dc24f69e8f571fc8be30f28ce5b84fcd  /data/project/jihye/2021-1/BioinfoPractice1/TermProject/binfo1-datapack1/RPF-siLuc.bam.bai\n"
     ]
    }
   ],
   "source": [
    "!md5sum /data/project/jihye/2021-1/BioinfoPractice1/TermProject/binfo1-datapack1/*"
   ]
  },
  {
   "cell_type": "markdown",
   "metadata": {
    "id": "kiQ5y4dTD27M"
   },
   "source": [
    "그리고, GENCODE Annotation 데이터도 미리 받아서 저장해 둡니다. 에러가 나면 다시 한 번 실행해 봅니다."
   ]
  },
  {
   "cell_type": "code",
   "execution_count": 5,
   "metadata": {
    "id": "Efdd3x8hDMh4"
   },
   "outputs": [
    {
     "name": "stdout",
     "output_type": "stream",
     "text": [
      "--2021-05-13 16:56:42--  http://ftp.ebi.ac.uk/pub/databases/gencode/Gencode_mouse/release_M27/gencode.vM27.annotation.gtf.gz\n",
      "Resolving ftp.ebi.ac.uk (ftp.ebi.ac.uk)... 193.62.193.138\n",
      "Connecting to ftp.ebi.ac.uk (ftp.ebi.ac.uk)|193.62.193.138|:80... connected.\n",
      "HTTP request sent, awaiting response... 200 OK\n",
      "Length: 28359457 (27M) [application/octet-stream]\n",
      "Saving to: ‘/data/project/jihye/2021-1/BioinfoPractice1/TermProject/binfo1-datapack1/gencode.gtf.gz’\n",
      "\n",
      "/data/project/jihye  66%[============>       ]  17.96M  56.0KB/s    in 3m 54s  \n",
      "\n",
      "2021-05-13 17:00:37 (78.6 KB/s) - Connection closed at byte 18830264. Retrying.\n",
      "\n",
      "--2021-05-13 17:00:38--  (try: 2)  http://ftp.ebi.ac.uk/pub/databases/gencode/Gencode_mouse/release_M27/gencode.vM27.annotation.gtf.gz\n",
      "Connecting to ftp.ebi.ac.uk (ftp.ebi.ac.uk)|193.62.193.138|:80... connected.\n",
      "HTTP request sent, awaiting response... 206 Partial Content\n",
      "Length: 28359457 (27M), 9529193 (9.1M) remaining [application/octet-stream]\n",
      "Saving to: ‘/data/project/jihye/2021-1/BioinfoPractice1/TermProject/binfo1-datapack1/gencode.gtf.gz’\n",
      "\n",
      "/data/project/jihye 100%[+++++++++++++======>]  27.04M   239KB/s    in 59s     \n",
      "\n",
      "2021-05-13 17:01:37 (159 KB/s) - ‘/data/project/jihye/2021-1/BioinfoPractice1/TermProject/binfo1-datapack1/gencode.gtf.gz’ saved [28359457/28359457]\n",
      "\n"
     ]
    }
   ],
   "source": [
    "!wget --no-check-certificate -O /data/project/jihye/2021-1/BioinfoPractice1/TermProject/binfo1-datapack1/gencode.gtf.gz http://ftp.ebi.ac.uk/pub/databases/gencode/Gencode_mouse/release_M27/gencode.vM27.annotation.gtf.gz"
   ]
  },
  {
   "cell_type": "markdown",
   "metadata": {
    "id": "O3rM9ds6EMhB"
   },
   "source": [
    "다루기 쉽도록 Annotation 압축을 풉니다."
   ]
  },
  {
   "cell_type": "code",
   "execution_count": 6,
   "metadata": {
    "id": "KNyuSM6PEQvX"
   },
   "outputs": [],
   "source": [
    "!gunzip /data/project/jihye/2021-1/BioinfoPractice1/TermProject/binfo1-datapack1/gencode.gtf.gz"
   ]
  },
  {
   "cell_type": "code",
   "execution_count": 8,
   "metadata": {
    "id": "PVXzIs5FE3Q4"
   },
   "outputs": [
    {
     "name": "stdout",
     "output_type": "stream",
     "text": [
      "total 7136764\n",
      "drwxr-xr-x 2 jihye lab       4096 May 13 17:08 .\n",
      "drwxr-xr-x 6 jihye lab       4096 May 13 17:01 ..\n",
      "-rw-r--r-- 1 jihye lab 1370036258 May  6 17:22 CLIP-35L33G.bam\n",
      "-rw-r--r-- 1 jihye lab    3118336 May  6 17:23 CLIP-35L33G.bam.bai\n",
      "-rw-r--r-- 1 jihye lab  883334756 May  5 23:04 gencode.gtf\n",
      "-rw-r--r-- 1 jihye lab 1003658801 May  6 17:38 RNA-control.bam\n",
      "-rw-r--r-- 1 jihye lab    2276104 May  6 17:39 RNA-control.bam.bai\n",
      "-rw-r--r-- 1 jihye lab 1260991122 May  6 17:47 RNA-siLin28a.bam\n",
      "-rw-r--r-- 1 jihye lab    2710744 May  6 17:47 RNA-siLin28a.bam.bai\n",
      "-rw-r--r-- 1 jihye lab  981684502 May  6 17:59 RNA-siLuc.bam\n",
      "-rw-r--r-- 1 jihye lab    2606104 May  6 17:59 RNA-siLuc.bam.bai\n",
      "-rw-r--r-- 1 jihye lab  737352902 May  6 18:04 RPF-siLin28a.bam\n",
      "-rw-r--r-- 1 jihye lab    2482768 May  6 18:05 RPF-siLin28a.bam.bai\n",
      "-rw-r--r-- 1 jihye lab 1055123479 May  6 18:02 RPF-siLuc.bam\n",
      "-rw-r--r-- 1 jihye lab    2605912 May  6 18:02 RPF-siLuc.bam.bai\n"
     ]
    }
   ],
   "source": [
    "!ls -al /data/project/jihye/2021-1/BioinfoPractice1/TermProject/binfo1-datapack1/"
   ]
  },
  {
   "cell_type": "markdown",
   "metadata": {
    "id": "ecEA1PPQUlIK"
   },
   "source": [
    "실습에 필요한 프로그램들 몇 가지를 추가로 설치합니다."
   ]
  },
  {
   "cell_type": "code",
   "execution_count": 9,
   "metadata": {
    "id": "neteyWsWEKBy"
   },
   "outputs": [
    {
     "name": "stdout",
     "output_type": "stream",
     "text": [
      "Collecting package metadata (repodata.json): done\n",
      "Solving environment: done\n",
      "\n",
      "## Package Plan ##\n",
      "\n",
      "  environment location: /data/packages/anaconda3\n",
      "\n",
      "  added / updated specs:\n",
      "    - subread\n",
      "\n",
      "\n",
      "The following packages will be downloaded:\n",
      "\n",
      "    package                    |            build\n",
      "    ---------------------------|-----------------\n",
      "    ca-certificates-2021.4.13  |       h06a4308_1         120 KB\n",
      "    conda-4.10.1               |   py37h06a4308_1         3.1 MB\n",
      "    openssl-1.1.1k             |       h27cfd23_0         3.8 MB\n",
      "    subread-2.0.1              |       hed695b0_0        20.7 MB  bioconda\n",
      "    ------------------------------------------------------------\n",
      "                                           Total:        27.7 MB\n",
      "\n",
      "The following NEW packages will be INSTALLED:\n",
      "\n",
      "  subread            bioconda/linux-64::subread-2.0.1-hed695b0_0\n",
      "\n",
      "The following packages will be UPDATED:\n",
      "\n",
      "  ca-certificates                      2021.1.19-h06a4308_1 --> 2021.4.13-h06a4308_1\n",
      "  conda                                4.9.2-py37h06a4308_0 --> 4.10.1-py37h06a4308_1\n",
      "  openssl                                 1.1.1j-h27cfd23_0 --> 1.1.1k-h27cfd23_0\n",
      "\n",
      "\n",
      "\n",
      "Downloading and Extracting Packages\n",
      "openssl-1.1.1k       | 3.8 MB    | ##################################### | 100% \n",
      "subread-2.0.1        | 20.7 MB   | ##################################### | 100% \n",
      "ca-certificates-2021 | 120 KB    | ##################################### | 100% \n",
      "conda-4.10.1         | 3.1 MB    | ##################################### | 100% \n",
      "Preparing transaction: done\n",
      "Verifying transaction: failed\n",
      "\n",
      "EnvironmentNotWritableError: The current user does not have write permissions to the target environment.\n",
      "  environment location: /data/packages/anaconda3\n",
      "  uid: 1031\n",
      "  gid: 1001\n",
      "\n",
      "\n"
     ]
    }
   ],
   "source": [
    "!conda install -y subread"
   ]
  },
  {
   "cell_type": "markdown",
   "metadata": {
    "id": "Oe_54MZrEi4y"
   },
   "source": [
    "## Transcript count table 마련하기\n",
    "\n",
    "제공된 alignment와 annotation 파일들을 이용해서 transcript별 read count를 구해봅니다. 실제 연구에서는 multi-mapping 등을 고려해야 하지만, 여기서는 단순화해서 모두 무시합니다. 데이터가 있는 곳으로 이동해서 작업합시다."
   ]
  },
  {
   "cell_type": "code",
   "execution_count": 3,
   "metadata": {
    "id": "IANz6DmLUkA6"
   },
   "outputs": [
    {
     "name": "stdout",
     "output_type": "stream",
     "text": [
      "/data/project/jihye/2021-1/BioinfoPractice1/TermProject/binfo1-datapack1\n"
     ]
    }
   ],
   "source": [
    "%cd /data/project/jihye/2021-1/BioinfoPractice1/TermProject/binfo1-datapack1"
   ]
  },
  {
   "cell_type": "code",
   "execution_count": 4,
   "metadata": {
    "id": "5OrnDxegFAip"
   },
   "outputs": [
    {
     "name": "stdout",
     "output_type": "stream",
     "text": [
      "/bin/bash: featureCounts: command not found\n"
     ]
    }
   ],
   "source": [
    "!featureCounts -a gencode.gtf -o read-counts.txt *.bam "
   ]
  },
  {
   "cell_type": "code",
   "execution_count": 13,
   "metadata": {},
   "outputs": [
    {
     "name": "stdout",
     "output_type": "stream",
     "text": [
      "CLIP-35L33G.bam      RNA-siLin28a.bam\t   RPF-siLin28a.bam.bai\n",
      "CLIP-35L33G.bam.bai  RNA-siLin28a.bam.bai  RPF-siLuc.bam\n",
      "gencode.gtf\t     RNA-siLuc.bam\t   RPF-siLuc.bam.bai\n",
      "RNA-control.bam      RNA-siLuc.bam.bai\n",
      "RNA-control.bam.bai  RPF-siLin28a.bam\n"
     ]
    }
   ],
   "source": [
    "!ls"
   ]
  },
  {
   "cell_type": "markdown",
   "metadata": {
    "id": "b2yJztZvGl9Q"
   },
   "source": [
    "결과를 pandas로 읽어와 봅니다."
   ]
  },
  {
   "cell_type": "code",
   "execution_count": 25,
   "metadata": {
    "id": "BMyNT3ARFAWi"
   },
   "outputs": [
    {
     "data": {
      "text/html": [
       "<div>\n",
       "<style scoped>\n",
       "    .dataframe tbody tr th:only-of-type {\n",
       "        vertical-align: middle;\n",
       "    }\n",
       "\n",
       "    .dataframe tbody tr th {\n",
       "        vertical-align: top;\n",
       "    }\n",
       "\n",
       "    .dataframe thead th {\n",
       "        text-align: right;\n",
       "    }\n",
       "</style>\n",
       "<table border=\"1\" class=\"dataframe\">\n",
       "  <thead>\n",
       "    <tr style=\"text-align: right;\">\n",
       "      <th></th>\n",
       "      <th>Geneid</th>\n",
       "      <th>Chr</th>\n",
       "      <th>Start</th>\n",
       "      <th>End</th>\n",
       "      <th>Strand</th>\n",
       "      <th>Length</th>\n",
       "      <th>CLIP-35L33G.bam</th>\n",
       "      <th>RNA-control.bam</th>\n",
       "      <th>RNA-siLin28a.bam</th>\n",
       "      <th>RNA-siLuc.bam</th>\n",
       "      <th>RPF-siLin28a.bam</th>\n",
       "      <th>RPF-siLuc.bam</th>\n",
       "    </tr>\n",
       "  </thead>\n",
       "  <tbody>\n",
       "    <tr>\n",
       "      <th>0</th>\n",
       "      <td>ENSMUSG00000102693.2</td>\n",
       "      <td>chr1</td>\n",
       "      <td>3143476</td>\n",
       "      <td>3144545</td>\n",
       "      <td>+</td>\n",
       "      <td>1070</td>\n",
       "      <td>0</td>\n",
       "      <td>0</td>\n",
       "      <td>0</td>\n",
       "      <td>0</td>\n",
       "      <td>0</td>\n",
       "      <td>0</td>\n",
       "    </tr>\n",
       "    <tr>\n",
       "      <th>1</th>\n",
       "      <td>ENSMUSG00000064842.3</td>\n",
       "      <td>chr1</td>\n",
       "      <td>3172239</td>\n",
       "      <td>3172348</td>\n",
       "      <td>+</td>\n",
       "      <td>110</td>\n",
       "      <td>0</td>\n",
       "      <td>0</td>\n",
       "      <td>0</td>\n",
       "      <td>0</td>\n",
       "      <td>0</td>\n",
       "      <td>0</td>\n",
       "    </tr>\n",
       "    <tr>\n",
       "      <th>2</th>\n",
       "      <td>ENSMUSG00000051951.6</td>\n",
       "      <td>chr1;chr1;chr1;chr1;chr1;chr1;chr1</td>\n",
       "      <td>3276124;3276746;3283662;3283832;3284705;349192...</td>\n",
       "      <td>3277540;3277540;3285855;3286567;3287191;349212...</td>\n",
       "      <td>-;-;-;-;-;-;-</td>\n",
       "      <td>6094</td>\n",
       "      <td>4</td>\n",
       "      <td>1</td>\n",
       "      <td>1</td>\n",
       "      <td>1</td>\n",
       "      <td>0</td>\n",
       "      <td>0</td>\n",
       "    </tr>\n",
       "    <tr>\n",
       "      <th>3</th>\n",
       "      <td>ENSMUSG00000102851.2</td>\n",
       "      <td>chr1</td>\n",
       "      <td>3322980</td>\n",
       "      <td>3323459</td>\n",
       "      <td>+</td>\n",
       "      <td>480</td>\n",
       "      <td>3</td>\n",
       "      <td>0</td>\n",
       "      <td>0</td>\n",
       "      <td>0</td>\n",
       "      <td>0</td>\n",
       "      <td>0</td>\n",
       "    </tr>\n",
       "    <tr>\n",
       "      <th>4</th>\n",
       "      <td>ENSMUSG00000103377.2</td>\n",
       "      <td>chr1</td>\n",
       "      <td>3435954</td>\n",
       "      <td>3438772</td>\n",
       "      <td>-</td>\n",
       "      <td>2819</td>\n",
       "      <td>0</td>\n",
       "      <td>0</td>\n",
       "      <td>0</td>\n",
       "      <td>0</td>\n",
       "      <td>0</td>\n",
       "      <td>0</td>\n",
       "    </tr>\n",
       "  </tbody>\n",
       "</table>\n",
       "</div>"
      ],
      "text/plain": [
       "                 Geneid                                 Chr  \\\n",
       "0  ENSMUSG00000102693.2                                chr1   \n",
       "1  ENSMUSG00000064842.3                                chr1   \n",
       "2  ENSMUSG00000051951.6  chr1;chr1;chr1;chr1;chr1;chr1;chr1   \n",
       "3  ENSMUSG00000102851.2                                chr1   \n",
       "4  ENSMUSG00000103377.2                                chr1   \n",
       "\n",
       "                                               Start  \\\n",
       "0                                            3143476   \n",
       "1                                            3172239   \n",
       "2  3276124;3276746;3283662;3283832;3284705;349192...   \n",
       "3                                            3322980   \n",
       "4                                            3435954   \n",
       "\n",
       "                                                 End         Strand  Length  \\\n",
       "0                                            3144545              +    1070   \n",
       "1                                            3172348              +     110   \n",
       "2  3277540;3277540;3285855;3286567;3287191;349212...  -;-;-;-;-;-;-    6094   \n",
       "3                                            3323459              +     480   \n",
       "4                                            3438772              -    2819   \n",
       "\n",
       "   CLIP-35L33G.bam  RNA-control.bam  RNA-siLin28a.bam  RNA-siLuc.bam  \\\n",
       "0                0                0                 0              0   \n",
       "1                0                0                 0              0   \n",
       "2                4                1                 1              1   \n",
       "3                3                0                 0              0   \n",
       "4                0                0                 0              0   \n",
       "\n",
       "   RPF-siLin28a.bam  RPF-siLuc.bam  \n",
       "0                 0              0  \n",
       "1                 0              0  \n",
       "2                 0              0  \n",
       "3                 0              0  \n",
       "4                 0              0  "
      ]
     },
     "execution_count": 25,
     "metadata": {},
     "output_type": "execute_result"
    }
   ],
   "source": [
    "import pandas as pd\n",
    "cnts = pd.read_csv('read-counts.txt', sep='\\t', comment='#')\n",
    "cnts.head()"
   ]
  },
  {
   "cell_type": "code",
   "execution_count": 26,
   "metadata": {},
   "outputs": [
    {
     "data": {
      "text/plain": [
       "Index(['Geneid', 'Chr', 'Start', 'End', 'Strand', 'Length', 'CLIP-35L33G.bam',\n",
       "       'RNA-control.bam', 'RNA-siLin28a.bam', 'RNA-siLuc.bam',\n",
       "       'RPF-siLin28a.bam', 'RPF-siLuc.bam'],\n",
       "      dtype='object')"
      ]
     },
     "execution_count": 26,
     "metadata": {},
     "output_type": "execute_result"
    }
   ],
   "source": [
    "cnts.columns"
   ]
  },
  {
   "cell_type": "markdown",
   "metadata": {
    "id": "byKCv80ysiNr"
   },
   "source": []
  },
  {
   "cell_type": "markdown",
   "metadata": {
    "id": "NyrUZ7WBPAmv"
   },
   "source": [
    "이제 한 번 대충 그림을 그려 봅니다."
   ]
  },
  {
   "cell_type": "code",
   "execution_count": 19,
   "metadata": {
    "id": "YlSZiJgVPAZS"
   },
   "outputs": [
    {
     "data": {
      "text/html": [
       "<div>\n",
       "<style scoped>\n",
       "    .dataframe tbody tr th:only-of-type {\n",
       "        vertical-align: middle;\n",
       "    }\n",
       "\n",
       "    .dataframe tbody tr th {\n",
       "        vertical-align: top;\n",
       "    }\n",
       "\n",
       "    .dataframe thead th {\n",
       "        text-align: right;\n",
       "    }\n",
       "</style>\n",
       "<table border=\"1\" class=\"dataframe\">\n",
       "  <thead>\n",
       "    <tr style=\"text-align: right;\">\n",
       "      <th></th>\n",
       "      <th>Chr</th>\n",
       "      <th>Start</th>\n",
       "      <th>End</th>\n",
       "      <th>Strand</th>\n",
       "      <th>Length</th>\n",
       "      <th>CLIP-35L33G.bam</th>\n",
       "      <th>RNA-control.bam</th>\n",
       "      <th>RNA-siLin28a.bam</th>\n",
       "      <th>RNA-siLuc.bam</th>\n",
       "      <th>RPF-siLin28a.bam</th>\n",
       "      <th>RPF-siLuc.bam</th>\n",
       "      <th>clip_enrichment</th>\n",
       "      <th>rden_change</th>\n",
       "    </tr>\n",
       "    <tr>\n",
       "      <th>Geneid</th>\n",
       "      <th></th>\n",
       "      <th></th>\n",
       "      <th></th>\n",
       "      <th></th>\n",
       "      <th></th>\n",
       "      <th></th>\n",
       "      <th></th>\n",
       "      <th></th>\n",
       "      <th></th>\n",
       "      <th></th>\n",
       "      <th></th>\n",
       "      <th></th>\n",
       "      <th></th>\n",
       "    </tr>\n",
       "  </thead>\n",
       "  <tbody>\n",
       "    <tr>\n",
       "      <th>ENSMUSG00000102693.2</th>\n",
       "      <td>chr1</td>\n",
       "      <td>3143476</td>\n",
       "      <td>3144545</td>\n",
       "      <td>+</td>\n",
       "      <td>1070</td>\n",
       "      <td>0</td>\n",
       "      <td>0</td>\n",
       "      <td>0</td>\n",
       "      <td>0</td>\n",
       "      <td>0</td>\n",
       "      <td>0</td>\n",
       "      <td>NaN</td>\n",
       "      <td>NaN</td>\n",
       "    </tr>\n",
       "    <tr>\n",
       "      <th>ENSMUSG00000064842.3</th>\n",
       "      <td>chr1</td>\n",
       "      <td>3172239</td>\n",
       "      <td>3172348</td>\n",
       "      <td>+</td>\n",
       "      <td>110</td>\n",
       "      <td>0</td>\n",
       "      <td>0</td>\n",
       "      <td>0</td>\n",
       "      <td>0</td>\n",
       "      <td>0</td>\n",
       "      <td>0</td>\n",
       "      <td>NaN</td>\n",
       "      <td>NaN</td>\n",
       "    </tr>\n",
       "    <tr>\n",
       "      <th>ENSMUSG00000051951.6</th>\n",
       "      <td>chr1;chr1;chr1;chr1;chr1;chr1;chr1</td>\n",
       "      <td>3276124;3276746;3283662;3283832;3284705;349192...</td>\n",
       "      <td>3277540;3277540;3285855;3286567;3287191;349212...</td>\n",
       "      <td>-;-;-;-;-;-;-</td>\n",
       "      <td>6094</td>\n",
       "      <td>4</td>\n",
       "      <td>1</td>\n",
       "      <td>1</td>\n",
       "      <td>1</td>\n",
       "      <td>0</td>\n",
       "      <td>0</td>\n",
       "      <td>4.0</td>\n",
       "      <td>NaN</td>\n",
       "    </tr>\n",
       "    <tr>\n",
       "      <th>ENSMUSG00000102851.2</th>\n",
       "      <td>chr1</td>\n",
       "      <td>3322980</td>\n",
       "      <td>3323459</td>\n",
       "      <td>+</td>\n",
       "      <td>480</td>\n",
       "      <td>3</td>\n",
       "      <td>0</td>\n",
       "      <td>0</td>\n",
       "      <td>0</td>\n",
       "      <td>0</td>\n",
       "      <td>0</td>\n",
       "      <td>inf</td>\n",
       "      <td>NaN</td>\n",
       "    </tr>\n",
       "    <tr>\n",
       "      <th>ENSMUSG00000103377.2</th>\n",
       "      <td>chr1</td>\n",
       "      <td>3435954</td>\n",
       "      <td>3438772</td>\n",
       "      <td>-</td>\n",
       "      <td>2819</td>\n",
       "      <td>0</td>\n",
       "      <td>0</td>\n",
       "      <td>0</td>\n",
       "      <td>0</td>\n",
       "      <td>0</td>\n",
       "      <td>0</td>\n",
       "      <td>NaN</td>\n",
       "      <td>NaN</td>\n",
       "    </tr>\n",
       "  </tbody>\n",
       "</table>\n",
       "</div>"
      ],
      "text/plain": [
       "                                                     Chr  \\\n",
       "Geneid                                                     \n",
       "ENSMUSG00000102693.2                                chr1   \n",
       "ENSMUSG00000064842.3                                chr1   \n",
       "ENSMUSG00000051951.6  chr1;chr1;chr1;chr1;chr1;chr1;chr1   \n",
       "ENSMUSG00000102851.2                                chr1   \n",
       "ENSMUSG00000103377.2                                chr1   \n",
       "\n",
       "                                                                  Start  \\\n",
       "Geneid                                                                    \n",
       "ENSMUSG00000102693.2                                            3143476   \n",
       "ENSMUSG00000064842.3                                            3172239   \n",
       "ENSMUSG00000051951.6  3276124;3276746;3283662;3283832;3284705;349192...   \n",
       "ENSMUSG00000102851.2                                            3322980   \n",
       "ENSMUSG00000103377.2                                            3435954   \n",
       "\n",
       "                                                                    End  \\\n",
       "Geneid                                                                    \n",
       "ENSMUSG00000102693.2                                            3144545   \n",
       "ENSMUSG00000064842.3                                            3172348   \n",
       "ENSMUSG00000051951.6  3277540;3277540;3285855;3286567;3287191;349212...   \n",
       "ENSMUSG00000102851.2                                            3323459   \n",
       "ENSMUSG00000103377.2                                            3438772   \n",
       "\n",
       "                             Strand  Length  CLIP-35L33G.bam  RNA-control.bam  \\\n",
       "Geneid                                                                          \n",
       "ENSMUSG00000102693.2              +    1070                0                0   \n",
       "ENSMUSG00000064842.3              +     110                0                0   \n",
       "ENSMUSG00000051951.6  -;-;-;-;-;-;-    6094                4                1   \n",
       "ENSMUSG00000102851.2              +     480                3                0   \n",
       "ENSMUSG00000103377.2              -    2819                0                0   \n",
       "\n",
       "                      RNA-siLin28a.bam  RNA-siLuc.bam  RPF-siLin28a.bam  \\\n",
       "Geneid                                                                    \n",
       "ENSMUSG00000102693.2                 0              0                 0   \n",
       "ENSMUSG00000064842.3                 0              0                 0   \n",
       "ENSMUSG00000051951.6                 1              1                 0   \n",
       "ENSMUSG00000102851.2                 0              0                 0   \n",
       "ENSMUSG00000103377.2                 0              0                 0   \n",
       "\n",
       "                      RPF-siLuc.bam  clip_enrichment  rden_change  \n",
       "Geneid                                                             \n",
       "ENSMUSG00000102693.2              0              NaN          NaN  \n",
       "ENSMUSG00000064842.3              0              NaN          NaN  \n",
       "ENSMUSG00000051951.6              0              4.0          NaN  \n",
       "ENSMUSG00000102851.2              0              inf          NaN  \n",
       "ENSMUSG00000103377.2              0              NaN          NaN  "
      ]
     },
     "execution_count": 19,
     "metadata": {},
     "output_type": "execute_result"
    }
   ],
   "source": [
    "cnts['clip_enrichment'] = cnts['CLIP-35L33G.bam'] / cnts['RNA-control.bam']\n",
    "cnts['rden_change'] = (cnts['RPF-siLin28a.bam'] / cnts['RNA-siLin28a.bam']) / (cnts['RPF-siLuc.bam'] / cnts['RNA-siLuc.bam'])\n",
    "cnts.head()"
   ]
  },
  {
   "cell_type": "code",
   "execution_count": 27,
   "metadata": {},
   "outputs": [],
   "source": [
    "def rm_after_dot(str):\n",
    "    ans, temp = str.split('.')\n",
    "    return ans"
   ]
  },
  {
   "cell_type": "code",
   "execution_count": 29,
   "metadata": {},
   "outputs": [
    {
     "data": {
      "text/html": [
       "<div>\n",
       "<style scoped>\n",
       "    .dataframe tbody tr th:only-of-type {\n",
       "        vertical-align: middle;\n",
       "    }\n",
       "\n",
       "    .dataframe tbody tr th {\n",
       "        vertical-align: top;\n",
       "    }\n",
       "\n",
       "    .dataframe thead th {\n",
       "        text-align: right;\n",
       "    }\n",
       "</style>\n",
       "<table border=\"1\" class=\"dataframe\">\n",
       "  <thead>\n",
       "    <tr style=\"text-align: right;\">\n",
       "      <th></th>\n",
       "      <th>Geneid</th>\n",
       "      <th>Chr</th>\n",
       "      <th>Start</th>\n",
       "      <th>End</th>\n",
       "      <th>Strand</th>\n",
       "      <th>Length</th>\n",
       "      <th>CLIP-35L33G.bam</th>\n",
       "      <th>RNA-control.bam</th>\n",
       "      <th>RNA-siLin28a.bam</th>\n",
       "      <th>RNA-siLuc.bam</th>\n",
       "      <th>RPF-siLin28a.bam</th>\n",
       "      <th>RPF-siLuc.bam</th>\n",
       "    </tr>\n",
       "  </thead>\n",
       "  <tbody>\n",
       "    <tr>\n",
       "      <th>0</th>\n",
       "      <td>ENSMUSG00000102693</td>\n",
       "      <td>chr1</td>\n",
       "      <td>3143476</td>\n",
       "      <td>3144545</td>\n",
       "      <td>+</td>\n",
       "      <td>1070</td>\n",
       "      <td>0</td>\n",
       "      <td>0</td>\n",
       "      <td>0</td>\n",
       "      <td>0</td>\n",
       "      <td>0</td>\n",
       "      <td>0</td>\n",
       "    </tr>\n",
       "    <tr>\n",
       "      <th>1</th>\n",
       "      <td>ENSMUSG00000064842</td>\n",
       "      <td>chr1</td>\n",
       "      <td>3172239</td>\n",
       "      <td>3172348</td>\n",
       "      <td>+</td>\n",
       "      <td>110</td>\n",
       "      <td>0</td>\n",
       "      <td>0</td>\n",
       "      <td>0</td>\n",
       "      <td>0</td>\n",
       "      <td>0</td>\n",
       "      <td>0</td>\n",
       "    </tr>\n",
       "    <tr>\n",
       "      <th>2</th>\n",
       "      <td>ENSMUSG00000051951</td>\n",
       "      <td>chr1;chr1;chr1;chr1;chr1;chr1;chr1</td>\n",
       "      <td>3276124;3276746;3283662;3283832;3284705;349192...</td>\n",
       "      <td>3277540;3277540;3285855;3286567;3287191;349212...</td>\n",
       "      <td>-;-;-;-;-;-;-</td>\n",
       "      <td>6094</td>\n",
       "      <td>4</td>\n",
       "      <td>1</td>\n",
       "      <td>1</td>\n",
       "      <td>1</td>\n",
       "      <td>0</td>\n",
       "      <td>0</td>\n",
       "    </tr>\n",
       "    <tr>\n",
       "      <th>3</th>\n",
       "      <td>ENSMUSG00000102851</td>\n",
       "      <td>chr1</td>\n",
       "      <td>3322980</td>\n",
       "      <td>3323459</td>\n",
       "      <td>+</td>\n",
       "      <td>480</td>\n",
       "      <td>3</td>\n",
       "      <td>0</td>\n",
       "      <td>0</td>\n",
       "      <td>0</td>\n",
       "      <td>0</td>\n",
       "      <td>0</td>\n",
       "    </tr>\n",
       "    <tr>\n",
       "      <th>4</th>\n",
       "      <td>ENSMUSG00000103377</td>\n",
       "      <td>chr1</td>\n",
       "      <td>3435954</td>\n",
       "      <td>3438772</td>\n",
       "      <td>-</td>\n",
       "      <td>2819</td>\n",
       "      <td>0</td>\n",
       "      <td>0</td>\n",
       "      <td>0</td>\n",
       "      <td>0</td>\n",
       "      <td>0</td>\n",
       "      <td>0</td>\n",
       "    </tr>\n",
       "    <tr>\n",
       "      <th>...</th>\n",
       "      <td>...</td>\n",
       "      <td>...</td>\n",
       "      <td>...</td>\n",
       "      <td>...</td>\n",
       "      <td>...</td>\n",
       "      <td>...</td>\n",
       "      <td>...</td>\n",
       "      <td>...</td>\n",
       "      <td>...</td>\n",
       "      <td>...</td>\n",
       "      <td>...</td>\n",
       "      <td>...</td>\n",
       "    </tr>\n",
       "    <tr>\n",
       "      <th>55354</th>\n",
       "      <td>ENSMUSG00000064368</td>\n",
       "      <td>chrM</td>\n",
       "      <td>13552</td>\n",
       "      <td>14070</td>\n",
       "      <td>-</td>\n",
       "      <td>519</td>\n",
       "      <td>1666</td>\n",
       "      <td>1976</td>\n",
       "      <td>6741</td>\n",
       "      <td>8052</td>\n",
       "      <td>11471</td>\n",
       "      <td>10842</td>\n",
       "    </tr>\n",
       "    <tr>\n",
       "      <th>55355</th>\n",
       "      <td>ENSMUSG00000064369</td>\n",
       "      <td>chrM</td>\n",
       "      <td>14071</td>\n",
       "      <td>14139</td>\n",
       "      <td>-</td>\n",
       "      <td>69</td>\n",
       "      <td>81</td>\n",
       "      <td>61</td>\n",
       "      <td>30</td>\n",
       "      <td>25</td>\n",
       "      <td>18</td>\n",
       "      <td>19</td>\n",
       "    </tr>\n",
       "    <tr>\n",
       "      <th>55356</th>\n",
       "      <td>ENSMUSG00000064370</td>\n",
       "      <td>chrM</td>\n",
       "      <td>14145</td>\n",
       "      <td>15288</td>\n",
       "      <td>+</td>\n",
       "      <td>1144</td>\n",
       "      <td>403</td>\n",
       "      <td>4561</td>\n",
       "      <td>11885</td>\n",
       "      <td>10971</td>\n",
       "      <td>13872</td>\n",
       "      <td>11329</td>\n",
       "    </tr>\n",
       "    <tr>\n",
       "      <th>55357</th>\n",
       "      <td>ENSMUSG00000064371</td>\n",
       "      <td>chrM</td>\n",
       "      <td>15289</td>\n",
       "      <td>15355</td>\n",
       "      <td>+</td>\n",
       "      <td>67</td>\n",
       "      <td>185</td>\n",
       "      <td>10</td>\n",
       "      <td>15</td>\n",
       "      <td>25</td>\n",
       "      <td>5257</td>\n",
       "      <td>3947</td>\n",
       "    </tr>\n",
       "    <tr>\n",
       "      <th>55358</th>\n",
       "      <td>ENSMUSG00000064372</td>\n",
       "      <td>chrM</td>\n",
       "      <td>15356</td>\n",
       "      <td>15422</td>\n",
       "      <td>-</td>\n",
       "      <td>67</td>\n",
       "      <td>3398</td>\n",
       "      <td>25</td>\n",
       "      <td>95</td>\n",
       "      <td>74</td>\n",
       "      <td>2867</td>\n",
       "      <td>2759</td>\n",
       "    </tr>\n",
       "  </tbody>\n",
       "</table>\n",
       "<p>55359 rows × 12 columns</p>\n",
       "</div>"
      ],
      "text/plain": [
       "                   Geneid                                 Chr  \\\n",
       "0      ENSMUSG00000102693                                chr1   \n",
       "1      ENSMUSG00000064842                                chr1   \n",
       "2      ENSMUSG00000051951  chr1;chr1;chr1;chr1;chr1;chr1;chr1   \n",
       "3      ENSMUSG00000102851                                chr1   \n",
       "4      ENSMUSG00000103377                                chr1   \n",
       "...                   ...                                 ...   \n",
       "55354  ENSMUSG00000064368                                chrM   \n",
       "55355  ENSMUSG00000064369                                chrM   \n",
       "55356  ENSMUSG00000064370                                chrM   \n",
       "55357  ENSMUSG00000064371                                chrM   \n",
       "55358  ENSMUSG00000064372                                chrM   \n",
       "\n",
       "                                                   Start  \\\n",
       "0                                                3143476   \n",
       "1                                                3172239   \n",
       "2      3276124;3276746;3283662;3283832;3284705;349192...   \n",
       "3                                                3322980   \n",
       "4                                                3435954   \n",
       "...                                                  ...   \n",
       "55354                                              13552   \n",
       "55355                                              14071   \n",
       "55356                                              14145   \n",
       "55357                                              15289   \n",
       "55358                                              15356   \n",
       "\n",
       "                                                     End         Strand  \\\n",
       "0                                                3144545              +   \n",
       "1                                                3172348              +   \n",
       "2      3277540;3277540;3285855;3286567;3287191;349212...  -;-;-;-;-;-;-   \n",
       "3                                                3323459              +   \n",
       "4                                                3438772              -   \n",
       "...                                                  ...            ...   \n",
       "55354                                              14070              -   \n",
       "55355                                              14139              -   \n",
       "55356                                              15288              +   \n",
       "55357                                              15355              +   \n",
       "55358                                              15422              -   \n",
       "\n",
       "       Length  CLIP-35L33G.bam  RNA-control.bam  RNA-siLin28a.bam  \\\n",
       "0        1070                0                0                 0   \n",
       "1         110                0                0                 0   \n",
       "2        6094                4                1                 1   \n",
       "3         480                3                0                 0   \n",
       "4        2819                0                0                 0   \n",
       "...       ...              ...              ...               ...   \n",
       "55354     519             1666             1976              6741   \n",
       "55355      69               81               61                30   \n",
       "55356    1144              403             4561             11885   \n",
       "55357      67              185               10                15   \n",
       "55358      67             3398               25                95   \n",
       "\n",
       "       RNA-siLuc.bam  RPF-siLin28a.bam  RPF-siLuc.bam  \n",
       "0                  0                 0              0  \n",
       "1                  0                 0              0  \n",
       "2                  1                 0              0  \n",
       "3                  0                 0              0  \n",
       "4                  0                 0              0  \n",
       "...              ...               ...            ...  \n",
       "55354           8052             11471          10842  \n",
       "55355             25                18             19  \n",
       "55356          10971             13872          11329  \n",
       "55357             25              5257           3947  \n",
       "55358             74              2867           2759  \n",
       "\n",
       "[55359 rows x 12 columns]"
      ]
     },
     "execution_count": 29,
     "metadata": {},
     "output_type": "execute_result"
    }
   ],
   "source": [
    "cnts['Geneid'] = cnts['Geneid'].apply(rm_after_dot)\n",
    "cnts"
   ]
  },
  {
   "cell_type": "code",
   "execution_count": 30,
   "metadata": {},
   "outputs": [
    {
     "data": {
      "text/html": [
       "<div>\n",
       "<style scoped>\n",
       "    .dataframe tbody tr th:only-of-type {\n",
       "        vertical-align: middle;\n",
       "    }\n",
       "\n",
       "    .dataframe tbody tr th {\n",
       "        vertical-align: top;\n",
       "    }\n",
       "\n",
       "    .dataframe thead th {\n",
       "        text-align: right;\n",
       "    }\n",
       "</style>\n",
       "<table border=\"1\" class=\"dataframe\">\n",
       "  <thead>\n",
       "    <tr style=\"text-align: right;\">\n",
       "      <th></th>\n",
       "      <th>gene_id</th>\n",
       "      <th>Chr</th>\n",
       "      <th>Start</th>\n",
       "      <th>End</th>\n",
       "      <th>Strand</th>\n",
       "      <th>Length</th>\n",
       "      <th>CLIP-35L33G.bam</th>\n",
       "      <th>RNA-control.bam</th>\n",
       "      <th>RNA-siLin28a.bam</th>\n",
       "      <th>RNA-siLuc.bam</th>\n",
       "      <th>RPF-siLin28a.bam</th>\n",
       "      <th>RPF-siLuc.bam</th>\n",
       "    </tr>\n",
       "  </thead>\n",
       "  <tbody>\n",
       "    <tr>\n",
       "      <th>0</th>\n",
       "      <td>ENSMUSG00000102693</td>\n",
       "      <td>chr1</td>\n",
       "      <td>3143476</td>\n",
       "      <td>3144545</td>\n",
       "      <td>+</td>\n",
       "      <td>1070</td>\n",
       "      <td>0</td>\n",
       "      <td>0</td>\n",
       "      <td>0</td>\n",
       "      <td>0</td>\n",
       "      <td>0</td>\n",
       "      <td>0</td>\n",
       "    </tr>\n",
       "    <tr>\n",
       "      <th>1</th>\n",
       "      <td>ENSMUSG00000064842</td>\n",
       "      <td>chr1</td>\n",
       "      <td>3172239</td>\n",
       "      <td>3172348</td>\n",
       "      <td>+</td>\n",
       "      <td>110</td>\n",
       "      <td>0</td>\n",
       "      <td>0</td>\n",
       "      <td>0</td>\n",
       "      <td>0</td>\n",
       "      <td>0</td>\n",
       "      <td>0</td>\n",
       "    </tr>\n",
       "    <tr>\n",
       "      <th>2</th>\n",
       "      <td>ENSMUSG00000051951</td>\n",
       "      <td>chr1;chr1;chr1;chr1;chr1;chr1;chr1</td>\n",
       "      <td>3276124;3276746;3283662;3283832;3284705;349192...</td>\n",
       "      <td>3277540;3277540;3285855;3286567;3287191;349212...</td>\n",
       "      <td>-;-;-;-;-;-;-</td>\n",
       "      <td>6094</td>\n",
       "      <td>4</td>\n",
       "      <td>1</td>\n",
       "      <td>1</td>\n",
       "      <td>1</td>\n",
       "      <td>0</td>\n",
       "      <td>0</td>\n",
       "    </tr>\n",
       "    <tr>\n",
       "      <th>3</th>\n",
       "      <td>ENSMUSG00000102851</td>\n",
       "      <td>chr1</td>\n",
       "      <td>3322980</td>\n",
       "      <td>3323459</td>\n",
       "      <td>+</td>\n",
       "      <td>480</td>\n",
       "      <td>3</td>\n",
       "      <td>0</td>\n",
       "      <td>0</td>\n",
       "      <td>0</td>\n",
       "      <td>0</td>\n",
       "      <td>0</td>\n",
       "    </tr>\n",
       "    <tr>\n",
       "      <th>4</th>\n",
       "      <td>ENSMUSG00000103377</td>\n",
       "      <td>chr1</td>\n",
       "      <td>3435954</td>\n",
       "      <td>3438772</td>\n",
       "      <td>-</td>\n",
       "      <td>2819</td>\n",
       "      <td>0</td>\n",
       "      <td>0</td>\n",
       "      <td>0</td>\n",
       "      <td>0</td>\n",
       "      <td>0</td>\n",
       "      <td>0</td>\n",
       "    </tr>\n",
       "    <tr>\n",
       "      <th>...</th>\n",
       "      <td>...</td>\n",
       "      <td>...</td>\n",
       "      <td>...</td>\n",
       "      <td>...</td>\n",
       "      <td>...</td>\n",
       "      <td>...</td>\n",
       "      <td>...</td>\n",
       "      <td>...</td>\n",
       "      <td>...</td>\n",
       "      <td>...</td>\n",
       "      <td>...</td>\n",
       "      <td>...</td>\n",
       "    </tr>\n",
       "    <tr>\n",
       "      <th>55354</th>\n",
       "      <td>ENSMUSG00000064368</td>\n",
       "      <td>chrM</td>\n",
       "      <td>13552</td>\n",
       "      <td>14070</td>\n",
       "      <td>-</td>\n",
       "      <td>519</td>\n",
       "      <td>1666</td>\n",
       "      <td>1976</td>\n",
       "      <td>6741</td>\n",
       "      <td>8052</td>\n",
       "      <td>11471</td>\n",
       "      <td>10842</td>\n",
       "    </tr>\n",
       "    <tr>\n",
       "      <th>55355</th>\n",
       "      <td>ENSMUSG00000064369</td>\n",
       "      <td>chrM</td>\n",
       "      <td>14071</td>\n",
       "      <td>14139</td>\n",
       "      <td>-</td>\n",
       "      <td>69</td>\n",
       "      <td>81</td>\n",
       "      <td>61</td>\n",
       "      <td>30</td>\n",
       "      <td>25</td>\n",
       "      <td>18</td>\n",
       "      <td>19</td>\n",
       "    </tr>\n",
       "    <tr>\n",
       "      <th>55356</th>\n",
       "      <td>ENSMUSG00000064370</td>\n",
       "      <td>chrM</td>\n",
       "      <td>14145</td>\n",
       "      <td>15288</td>\n",
       "      <td>+</td>\n",
       "      <td>1144</td>\n",
       "      <td>403</td>\n",
       "      <td>4561</td>\n",
       "      <td>11885</td>\n",
       "      <td>10971</td>\n",
       "      <td>13872</td>\n",
       "      <td>11329</td>\n",
       "    </tr>\n",
       "    <tr>\n",
       "      <th>55357</th>\n",
       "      <td>ENSMUSG00000064371</td>\n",
       "      <td>chrM</td>\n",
       "      <td>15289</td>\n",
       "      <td>15355</td>\n",
       "      <td>+</td>\n",
       "      <td>67</td>\n",
       "      <td>185</td>\n",
       "      <td>10</td>\n",
       "      <td>15</td>\n",
       "      <td>25</td>\n",
       "      <td>5257</td>\n",
       "      <td>3947</td>\n",
       "    </tr>\n",
       "    <tr>\n",
       "      <th>55358</th>\n",
       "      <td>ENSMUSG00000064372</td>\n",
       "      <td>chrM</td>\n",
       "      <td>15356</td>\n",
       "      <td>15422</td>\n",
       "      <td>-</td>\n",
       "      <td>67</td>\n",
       "      <td>3398</td>\n",
       "      <td>25</td>\n",
       "      <td>95</td>\n",
       "      <td>74</td>\n",
       "      <td>2867</td>\n",
       "      <td>2759</td>\n",
       "    </tr>\n",
       "  </tbody>\n",
       "</table>\n",
       "<p>55359 rows × 12 columns</p>\n",
       "</div>"
      ],
      "text/plain": [
       "                  gene_id                                 Chr  \\\n",
       "0      ENSMUSG00000102693                                chr1   \n",
       "1      ENSMUSG00000064842                                chr1   \n",
       "2      ENSMUSG00000051951  chr1;chr1;chr1;chr1;chr1;chr1;chr1   \n",
       "3      ENSMUSG00000102851                                chr1   \n",
       "4      ENSMUSG00000103377                                chr1   \n",
       "...                   ...                                 ...   \n",
       "55354  ENSMUSG00000064368                                chrM   \n",
       "55355  ENSMUSG00000064369                                chrM   \n",
       "55356  ENSMUSG00000064370                                chrM   \n",
       "55357  ENSMUSG00000064371                                chrM   \n",
       "55358  ENSMUSG00000064372                                chrM   \n",
       "\n",
       "                                                   Start  \\\n",
       "0                                                3143476   \n",
       "1                                                3172239   \n",
       "2      3276124;3276746;3283662;3283832;3284705;349192...   \n",
       "3                                                3322980   \n",
       "4                                                3435954   \n",
       "...                                                  ...   \n",
       "55354                                              13552   \n",
       "55355                                              14071   \n",
       "55356                                              14145   \n",
       "55357                                              15289   \n",
       "55358                                              15356   \n",
       "\n",
       "                                                     End         Strand  \\\n",
       "0                                                3144545              +   \n",
       "1                                                3172348              +   \n",
       "2      3277540;3277540;3285855;3286567;3287191;349212...  -;-;-;-;-;-;-   \n",
       "3                                                3323459              +   \n",
       "4                                                3438772              -   \n",
       "...                                                  ...            ...   \n",
       "55354                                              14070              -   \n",
       "55355                                              14139              -   \n",
       "55356                                              15288              +   \n",
       "55357                                              15355              +   \n",
       "55358                                              15422              -   \n",
       "\n",
       "       Length  CLIP-35L33G.bam  RNA-control.bam  RNA-siLin28a.bam  \\\n",
       "0        1070                0                0                 0   \n",
       "1         110                0                0                 0   \n",
       "2        6094                4                1                 1   \n",
       "3         480                3                0                 0   \n",
       "4        2819                0                0                 0   \n",
       "...       ...              ...              ...               ...   \n",
       "55354     519             1666             1976              6741   \n",
       "55355      69               81               61                30   \n",
       "55356    1144              403             4561             11885   \n",
       "55357      67              185               10                15   \n",
       "55358      67             3398               25                95   \n",
       "\n",
       "       RNA-siLuc.bam  RPF-siLin28a.bam  RPF-siLuc.bam  \n",
       "0                  0                 0              0  \n",
       "1                  0                 0              0  \n",
       "2                  1                 0              0  \n",
       "3                  0                 0              0  \n",
       "4                  0                 0              0  \n",
       "...              ...               ...            ...  \n",
       "55354           8052             11471          10842  \n",
       "55355             25                18             19  \n",
       "55356          10971             13872          11329  \n",
       "55357             25              5257           3947  \n",
       "55358             74              2867           2759  \n",
       "\n",
       "[55359 rows x 12 columns]"
      ]
     },
     "execution_count": 30,
     "metadata": {},
     "output_type": "execute_result"
    }
   ],
   "source": [
    "cnts.rename(columns = {\"Geneid\": \"gene_id\"}, inplace=True)\n",
    "cnts"
   ]
  },
  {
   "cell_type": "code",
   "execution_count": 8,
   "metadata": {
    "id": "vU3ce_HEFALl"
   },
   "outputs": [
    {
     "data": {
      "text/plain": [
       "<matplotlib.collections.PathCollection at 0x7f3f94573940>"
      ]
     },
     "execution_count": 8,
     "metadata": {},
     "output_type": "execute_result"
    },
    {
     "data": {
      "image/png": "[encoded data removed]",
      "text/plain": [
       "<Figure size 360x360 with 1 Axes>"
      ]
     },
     "metadata": {
      "needs_background": "light"
     },
     "output_type": "display_data"
    }
   ],
   "source": [
    "from matplotlib import pyplot as plt\n",
    "import numpy as np\n",
    "\n",
    "fig, ax = plt.subplots(1, 1, figsize=(5, 5))\n",
    "ax.scatter(np.log2(cnts['clip_enrichment']),\n",
    "           np.log2(cnts['rden_change']))"
   ]
  },
  {
   "cell_type": "markdown",
   "metadata": {
    "id": "ksVjIL10mV_v"
   },
   "source": [
    "이 그림에는 문제가 많이 있습니다. 논문의 그림처럼 한 번 만들어 봅시다~"
   ]
  },
  {
   "cell_type": "markdown",
   "metadata": {
    "id": "sf6EJJ60Qbxg"
   },
   "source": [
    "## Protein localization 반영하기\n",
    "\n",
    "논문 그림에서는 protein localization을 반영해서 색으로 나타냈습니다. 이것을 한 번 구현해 봅시다. 각 gene product의 localization을 따로 구하려면 좀 귀찮기 때문에 미리 모아 두었습니다. UniProt에서 매핑된 데이터를 토대로 아주 명확한 것만 일부 정리한 것입니다. 이것도 마찬가지로 처음엔 에러가 나기도 하니까, 다시 실행해보면 거의 잘 됩니다~"
   ]
  },
  {
   "cell_type": "code",
   "execution_count": 13,
   "metadata": {
    "id": "ivb1q7_f-gl4"
   },
   "outputs": [
    {
     "data": {
      "text/html": [
       "<div>\n",
       "<style scoped>\n",
       "    .dataframe tbody tr th:only-of-type {\n",
       "        vertical-align: middle;\n",
       "    }\n",
       "\n",
       "    .dataframe tbody tr th {\n",
       "        vertical-align: top;\n",
       "    }\n",
       "\n",
       "    .dataframe thead th {\n",
       "        text-align: right;\n",
       "    }\n",
       "</style>\n",
       "<table border=\"1\" class=\"dataframe\">\n",
       "  <thead>\n",
       "    <tr style=\"text-align: right;\">\n",
       "      <th></th>\n",
       "      <th>gene_id</th>\n",
       "      <th>Gene names</th>\n",
       "      <th>type</th>\n",
       "    </tr>\n",
       "  </thead>\n",
       "  <tbody>\n",
       "    <tr>\n",
       "      <th>0</th>\n",
       "      <td>ENSMUSG00000000001</td>\n",
       "      <td>Gnai3</td>\n",
       "      <td>cytoplasm</td>\n",
       "    </tr>\n",
       "    <tr>\n",
       "      <th>1</th>\n",
       "      <td>ENSMUSG00000000028</td>\n",
       "      <td>Cdc45 Cdc45l Cdc45l2</td>\n",
       "      <td>nucleus</td>\n",
       "    </tr>\n",
       "    <tr>\n",
       "      <th>2</th>\n",
       "      <td>ENSMUSG00000000049</td>\n",
       "      <td>Apoh B2gp1</td>\n",
       "      <td>cytoplasm</td>\n",
       "    </tr>\n",
       "    <tr>\n",
       "      <th>3</th>\n",
       "      <td>ENSMUSG00000000058</td>\n",
       "      <td>Cav2</td>\n",
       "      <td>cytoplasm</td>\n",
       "    </tr>\n",
       "    <tr>\n",
       "      <th>4</th>\n",
       "      <td>ENSMUSG00000000085</td>\n",
       "      <td>Scmh1</td>\n",
       "      <td>nucleus</td>\n",
       "    </tr>\n",
       "  </tbody>\n",
       "</table>\n",
       "</div>"
      ],
      "text/plain": [
       "              gene_id            Gene names       type\n",
       "0  ENSMUSG00000000001                 Gnai3  cytoplasm\n",
       "1  ENSMUSG00000000028  Cdc45 Cdc45l Cdc45l2    nucleus\n",
       "2  ENSMUSG00000000049            Apoh B2gp1  cytoplasm\n",
       "3  ENSMUSG00000000058                  Cav2  cytoplasm\n",
       "4  ENSMUSG00000000085                 Scmh1    nucleus"
      ]
     },
     "execution_count": 13,
     "metadata": {},
     "output_type": "execute_result"
    }
   ],
   "source": [
    "import ssl\n",
    "ssl._create_default_https_context = ssl._create_unverified_context\n",
    "mouselocal = pd.read_csv('https://hyeshik.qbio.io/binfo/mouselocalization-20210507.txt', sep='\\t')\n",
    "mouselocal.head()"
   ]
  },
  {
   "cell_type": "markdown",
   "metadata": {
    "id": "Q9vgSzeiQxDU"
   },
   "source": [
    "이제 이 localization 데이터와 위에서 만든 scatter를 결합해서 논문 그림과 비슷하게 만들어 봅시다."
   ]
  },
  {
   "cell_type": "code",
   "execution_count": null,
   "metadata": {},
   "outputs": [],
   "source": []
  },
  {
   "cell_type": "code",
   "execution_count": null,
   "metadata": {},
   "outputs": [],
   "source": []
  }
 ],
 "metadata": {
  "colab": {
   "collapsed_sections": [],
   "name": "CoLab-TermProj.ipynb",
   "provenance": []
  },
  "kernelspec": {
   "display_name": "2021-1",
   "language": "python",
   "name": "2021-1"
  },
  "language_info": {
   "codemirror_mode": {
    "name": "ipython",
    "version": 3
   },
   "file_extension": ".py",
   "mimetype": "text/x-python",
   "name": "python",
   "nbconvert_exporter": "python",
   "pygments_lexer": "ipython3",
   "version": "3.8.5"
  }
 },
 "nbformat": 4,
 "nbformat_minor": 2
}
